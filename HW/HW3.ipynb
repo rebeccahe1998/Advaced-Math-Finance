{
 "cells": [
  {
   "cell_type": "code",
   "execution_count": 1,
   "metadata": {},
   "outputs": [],
   "source": [
    "import numpy as np\n",
    "import math\n",
    "import matplotlib.pyplot as plt\n",
    "import pandas as pd\n",
    "from  numpy.random import binomial as rbinom\n",
    "from numpy.random import normal as rnorm\n",
    "from numpy.random import uniform as runi\n",
    "from numpy.random import gamma as gamma\n",
    "from scipy.stats import norm,binom,t\n",
    "import statistics\n",
    "import itertools"
   ]
  },
  {
   "cell_type": "markdown",
   "metadata": {},
   "source": [
    "## Question1 Stratified sampling\n",
    "Out-of-the-money Call in a Black-Scholes model (i.e. lognormal ST). The parameters are: S0 = 50, r = 0.02, T = 0.5, σ = 0.25. The Call strike is K = 55.\n",
    "\n",
    "The stratification will be on the underlying U’s, and the strata are $A1 = [0, 0.4], A2 = [0.4, 0.6], A3 =\n",
    "[0.6, 0.8], A4 = [0.8, 1]$. So the corresponding pi’s are: $p1 = 0.4, p2 = p3 = p4 = 0.2 $.\n",
    "\n",
    "We wish to use a total of M = 100 samples, split across the strata as N1 = 10,N2 = N3 = N4 =\n",
    "30. Note that the split is not proportional to the pi, but this is ok: it only matters for estimating the conditional mean ˆµi and variance\n",
    "σˆ2 in each strata\n",
    "\n",
    "1. Give estimated $\\hat{\\mu_i},\\hat{\\sigma_i}$ for i=1,2,3,4\n",
    "2. Give overall estimated option value $\\hat{V}$\n",
    "3. Give Standard error of $\\hat{V}$, recall that it's weighted average of $\\hat{\\sigma^2}$, plus divede by M"
   ]
  },
  {
   "cell_type": "code",
   "execution_count": 2,
   "metadata": {},
   "outputs": [
    {
     "data": {
      "text/plain": [
       "<matplotlib.collections.PathCollection at 0x21885bb47f0>"
      ]
     },
     "execution_count": 2,
     "metadata": {},
     "output_type": "execute_result"
    },
    {
     "data": {
      "image/png": "[encoded data removed]",
      "text/plain": [
       "<Figure size 432x288 with 1 Axes>"
      ]
     },
     "metadata": {
      "needs_background": "light"
     },
     "output_type": "display_data"
    }
   ],
   "source": [
    "N1=10\n",
    "N2=N3=N4=30\n",
    "s0 = 50; r = 0.02; T = 0.5;sigma= 0.25;K=55\n",
    "\n",
    "u = np.zeros(100)\n",
    "s = np.zeros(100)\n",
    "# generate the first strata random uniform value\n",
    "u[0:10] = runi(0,0.4,size=10)\n",
    "#generate the stock price for the 10 samples in the first strata\n",
    "for i in range(10):\n",
    "    s[i] = s0*math.exp((r-sigma**2/2)*T +sigma*math.sqrt(T)*norm.ppf(u[i]))\n",
    "# generate 3 strata with 30 samples each\n",
    "for k in range(3):\n",
    "    u[(10+30*k):(10+30*(k+1))] = runi(0.4+0.2*k,0.6+0.2*k,size=30)\n",
    "    for i in range(10,40):\n",
    "        s[i+30*k] = s0*math.exp((r-sigma**2/2)*T +sigma*math.sqrt(T)*norm.ppf(u[i+30*k]))\n",
    "plt.scatter(u, np.linspace(0,0,100))\n"
   ]
  },
  {
   "cell_type": "code",
   "execution_count": 3,
   "metadata": {},
   "outputs": [
    {
     "name": "stdout",
     "output_type": "stream",
     "text": [
      "mean payoff for each strat sampling [0.         0.         0.53891114 9.93213901] \n",
      " sigma for each strat samples [0.         0.         0.77282979 6.02107697]\n"
     ]
    }
   ],
   "source": [
    "# calculate payoff of each sample\n",
    "payoff = np.zeros(100)\n",
    "for i in range(100):\n",
    "    payoff[i] = math.exp(-r*T)*max(s[i]-K,0)\n",
    "\n",
    "mu=np.zeros(4)\n",
    "sigma = np.zeros(4)\n",
    "# calculate the first strata mean payoff and standard dev\n",
    "mu[0]= np.mean(payoff[0:10])\n",
    "sigma[0] = statistics.stdev(payoff[0:10])\n",
    "# calculate the other stratas mean payoff and standard dev\n",
    "for k in range(1,4):\n",
    "    mu[k] = np.mean(payoff[10+30*(k-1):40+30*(k-1)])\n",
    "    # comput sample standard deviation\n",
    "    sigma[k]=statistics.stdev(payoff[10+30*(k-1):40+30*(k-1)])\n",
    "print(\"mean payoff for each strat sampling\", mu,\"\\n sigma for each strat samples\",sigma)"
   ]
  },
  {
   "cell_type": "code",
   "execution_count": 4,
   "metadata": {},
   "outputs": [
    {
     "name": "stdout",
     "output_type": "stream",
     "text": [
      "option value is 2.0942100311981644\n"
     ]
    }
   ],
   "source": [
    "mean_payoff=sum(mu[1:4])*0.2 +0.4*mu[0]\n",
    "print(\"option value is\",mean_payoff)\n"
   ]
  },
  {
   "cell_type": "code",
   "execution_count": 5,
   "metadata": {},
   "outputs": [
    {
     "name": "stdout",
     "output_type": "stream",
     "text": [
      "standard error is 0.27147977382497235\n"
     ]
    }
   ],
   "source": [
    "se = math.sqrt(sum(sigma[1:4]**2)*0.2 +0.4*sigma[0]**2)/math.sqrt(100)\n",
    "print(\"standard error is\", se)"
   ]
  },
  {
   "cell_type": "markdown",
   "metadata": {},
   "source": [
    "## Problem 2: Monte Carlo for Aggregate Stop-Loss contracts"
   ]
  },
  {
   "cell_type": "code",
   "execution_count": 6,
   "metadata": {},
   "outputs": [],
   "source": [
    "# cost of insurer \n",
    "def cost(y):\n",
    "    \"\"\"\n",
    "    input: loss\n",
    "    \"\"\"\n",
    "    co=0\n",
    "    if y <1000 and y>0:\n",
    "        c= 0\n",
    "    if y<2500 and y>=1000:\n",
    "        co= 1/2*(y-1000)\n",
    "    if y>=2500:\n",
    "        co = y-1750\n",
    "    return co"
   ]
  },
  {
   "cell_type": "code",
   "execution_count": 7,
   "metadata": {},
   "outputs": [],
   "source": [
    "def total_cost():\n",
    "    \"\"\"\n",
    "    output： simulation of total cost \n",
    "    \"\"\"\n",
    "    N = rbinom(12,0.4)\n",
    "    # m medium claims out of N claims\n",
    "    m = rbinom(N,0.75)\n",
    "    l = N-m\n",
    "    y = np.zeros(N)\n",
    "    for i in range(m):\n",
    "        y[i] = gamma(4,1/0.02)\n",
    "    for k in range(m,N):\n",
    "        y[k]= gamma (5,1/0.01)\n",
    "    total = sum(y)\n",
    "    c = cost(total)\n",
    "    return c"
   ]
  },
  {
   "cell_type": "code",
   "execution_count": 8,
   "metadata": {},
   "outputs": [
    {
     "name": "stdout",
     "output_type": "stream",
     "text": [
      "Cost to insurer: 214.5912820251377\n",
      "Probability the insurance pay nothing: 0.358\n",
      "Probability the insurance pay more than 1000: 0.024\n"
     ]
    }
   ],
   "source": [
    "total_list=[]\n",
    "for i in range(1000):\n",
    "    total_list.append(total_cost())\n",
    "print(\"Cost to insurer:\",np.mean(total_list))\n",
    "\n",
    "print(\"Probability the insurance pay nothing:\",np.count_nonzero(np.array(total_list) == 0)/1000)\n",
    "\n",
    "print(\"Probability the insurance pay more than 1000:\",np.count_nonzero((np.array(total_list) >1000))/1000)"
   ]
  },
  {
   "cell_type": "markdown",
   "metadata": {},
   "source": [
    "## Problem 3\n",
    "generate a plot of the efficient frontier for this model to cover the range $µV ∈ [0, 0.3].$ You should have at least 50 points on the frontier. Indicate which part of the frontier corresponds to portfolios without short-selling.\n",
    "$0<\\mu_V = 0.1*w+0.2*(1-w) = 0.2-0.1w<0.3 \\iff w \\in [-1,2]$"
   ]
  },
  {
   "cell_type": "code",
   "execution_count": 9,
   "metadata": {},
   "outputs": [],
   "source": [
    "def muX(w,mu):\n",
    "    \"\"\"\n",
    "    input: asset weights, returns\n",
    "    output: portfolio mean\n",
    "    \"\"\"\n",
    "    mu_v = np.dot(w ,mu.T)\n",
    "    return mu_v\n",
    "def sigmaX(w,cov):\n",
    "    \"\"\"\n",
    "    input: asset weight, covariance matrix\n",
    "    output: portfolio volatility\n",
    "    \"\"\"\n",
    "    return math.sqrt(np.dot(np.dot(w,cov),w.T))\n"
   ]
  },
  {
   "cell_type": "code",
   "execution_count": 10,
   "metadata": {},
   "outputs": [],
   "source": [
    "cov = np.matrix('0.16,0.1;0.1,0.25')\n",
    "mu = np.array([0.1,0.2])"
   ]
  },
  {
   "cell_type": "code",
   "execution_count": 11,
   "metadata": {},
   "outputs": [
    {
     "data": {
      "text/plain": [
       "[]"
      ]
     },
     "execution_count": 11,
     "metadata": {},
     "output_type": "execute_result"
    },
    {
     "data": {
      "image/png": "[encoded data removed]",
      "text/plain": [
       "<Figure size 432x288 with 1 Axes>"
      ]
     },
     "metadata": {
      "needs_background": "light"
     },
     "output_type": "display_data"
    }
   ],
   "source": [
    "s=[]\n",
    "s2 = s.copy()\n",
    "m=[]\n",
    "m2=m.copy()\n",
    "# compute mu and sigma for 50 combination of portforlio \n",
    "for w in np.linspace(-1,2,50):\n",
    "    w_list = np.array([w,1-w])\n",
    "    s.append(sigmaX(w_list,cov))\n",
    "    m.append(muX(w_list,mu))\n",
    "# compute mu and sigma for 25 combination of portforlio without short selling\n",
    "for w in np.linspace(0,1,50):\n",
    "    w_list = np.array([w,1-w])\n",
    "    s2.append(sigmaX(w_list,cov))\n",
    "    m2.append(muX(w_list,mu))\n",
    "plt.scatter(s,m, color=\"red\",label=\"With Short Selling\")\n",
    "plt.scatter(s2,m2,color=\"blue\",label=\"Without Short Selling\")\n",
    "plt.legend()\n",
    "\n",
    "plt.plot()\n"
   ]
  },
  {
   "cell_type": "code",
   "execution_count": 12,
   "metadata": {},
   "outputs": [
    {
     "data": {
      "text/html": [
       "<div>\n",
       "<style scoped>\n",
       "    .dataframe tbody tr th:only-of-type {\n",
       "        vertical-align: middle;\n",
       "    }\n",
       "\n",
       "    .dataframe tbody tr th {\n",
       "        vertical-align: top;\n",
       "    }\n",
       "\n",
       "    .dataframe thead th {\n",
       "        text-align: right;\n",
       "    }\n",
       "</style>\n",
       "<table border=\"1\" class=\"dataframe\">\n",
       "  <thead>\n",
       "    <tr style=\"text-align: right;\">\n",
       "      <th></th>\n",
       "      <th>w1</th>\n",
       "      <th>w2</th>\n",
       "      <th>$\\mu_V$</th>\n",
       "      <th>$\\sigma_V$</th>\n",
       "      <th>Indifference Line</th>\n",
       "    </tr>\n",
       "  </thead>\n",
       "  <tbody>\n",
       "    <tr>\n",
       "      <th>0</th>\n",
       "      <td>-1.000000</td>\n",
       "      <td>2.000000</td>\n",
       "      <td>0.300000</td>\n",
       "      <td>0.871780</td>\n",
       "      <td>0.038466</td>\n",
       "    </tr>\n",
       "    <tr>\n",
       "      <th>1</th>\n",
       "      <td>-0.938776</td>\n",
       "      <td>1.938776</td>\n",
       "      <td>0.293878</td>\n",
       "      <td>0.846585</td>\n",
       "      <td>0.039902</td>\n",
       "    </tr>\n",
       "    <tr>\n",
       "      <th>2</th>\n",
       "      <td>-0.877551</td>\n",
       "      <td>1.877551</td>\n",
       "      <td>0.287755</td>\n",
       "      <td>0.821575</td>\n",
       "      <td>0.041283</td>\n",
       "    </tr>\n",
       "    <tr>\n",
       "      <th>3</th>\n",
       "      <td>-0.816327</td>\n",
       "      <td>1.816327</td>\n",
       "      <td>0.281633</td>\n",
       "      <td>0.796768</td>\n",
       "      <td>0.042602</td>\n",
       "    </tr>\n",
       "    <tr>\n",
       "      <th>4</th>\n",
       "      <td>-0.755102</td>\n",
       "      <td>1.755102</td>\n",
       "      <td>0.275510</td>\n",
       "      <td>0.772184</td>\n",
       "      <td>0.043855</td>\n",
       "    </tr>\n",
       "    <tr>\n",
       "      <th>5</th>\n",
       "      <td>-0.693878</td>\n",
       "      <td>1.693878</td>\n",
       "      <td>0.269388</td>\n",
       "      <td>0.747844</td>\n",
       "      <td>0.045034</td>\n",
       "    </tr>\n",
       "    <tr>\n",
       "      <th>6</th>\n",
       "      <td>-0.632653</td>\n",
       "      <td>1.632653</td>\n",
       "      <td>0.263265</td>\n",
       "      <td>0.723774</td>\n",
       "      <td>0.046133</td>\n",
       "    </tr>\n",
       "    <tr>\n",
       "      <th>7</th>\n",
       "      <td>-0.571429</td>\n",
       "      <td>1.571429</td>\n",
       "      <td>0.257143</td>\n",
       "      <td>0.700000</td>\n",
       "      <td>0.047143</td>\n",
       "    </tr>\n",
       "    <tr>\n",
       "      <th>8</th>\n",
       "      <td>-0.510204</td>\n",
       "      <td>1.510204</td>\n",
       "      <td>0.251020</td>\n",
       "      <td>0.676554</td>\n",
       "      <td>0.048054</td>\n",
       "    </tr>\n",
       "    <tr>\n",
       "      <th>9</th>\n",
       "      <td>-0.448980</td>\n",
       "      <td>1.448980</td>\n",
       "      <td>0.244898</td>\n",
       "      <td>0.653472</td>\n",
       "      <td>0.048856</td>\n",
       "    </tr>\n",
       "    <tr>\n",
       "      <th>10</th>\n",
       "      <td>-0.387755</td>\n",
       "      <td>1.387755</td>\n",
       "      <td>0.238776</td>\n",
       "      <td>0.630794</td>\n",
       "      <td>0.049537</td>\n",
       "    </tr>\n",
       "    <tr>\n",
       "      <th>11</th>\n",
       "      <td>-0.326531</td>\n",
       "      <td>1.326531</td>\n",
       "      <td>0.232653</td>\n",
       "      <td>0.608564</td>\n",
       "      <td>0.050084</td>\n",
       "    </tr>\n",
       "    <tr>\n",
       "      <th>12</th>\n",
       "      <td>-0.265306</td>\n",
       "      <td>1.265306</td>\n",
       "      <td>0.226531</td>\n",
       "      <td>0.586833</td>\n",
       "      <td>0.050481</td>\n",
       "    </tr>\n",
       "    <tr>\n",
       "      <th>13</th>\n",
       "      <td>-0.204082</td>\n",
       "      <td>1.204082</td>\n",
       "      <td>0.220408</td>\n",
       "      <td>0.565660</td>\n",
       "      <td>0.050710</td>\n",
       "    </tr>\n",
       "    <tr>\n",
       "      <th>14</th>\n",
       "      <td>-0.142857</td>\n",
       "      <td>1.142857</td>\n",
       "      <td>0.214286</td>\n",
       "      <td>0.545108</td>\n",
       "      <td>0.050753</td>\n",
       "    </tr>\n",
       "    <tr>\n",
       "      <th>15</th>\n",
       "      <td>-0.081633</td>\n",
       "      <td>1.081633</td>\n",
       "      <td>0.208163</td>\n",
       "      <td>0.525252</td>\n",
       "      <td>0.050588</td>\n",
       "    </tr>\n",
       "    <tr>\n",
       "      <th>16</th>\n",
       "      <td>-0.020408</td>\n",
       "      <td>1.020408</td>\n",
       "      <td>0.202041</td>\n",
       "      <td>0.506172</td>\n",
       "      <td>0.050189</td>\n",
       "    </tr>\n",
       "    <tr>\n",
       "      <th>17</th>\n",
       "      <td>0.040816</td>\n",
       "      <td>0.959184</td>\n",
       "      <td>0.195918</td>\n",
       "      <td>0.487960</td>\n",
       "      <td>0.049530</td>\n",
       "    </tr>\n",
       "    <tr>\n",
       "      <th>18</th>\n",
       "      <td>0.102041</td>\n",
       "      <td>0.897959</td>\n",
       "      <td>0.189796</td>\n",
       "      <td>0.470717</td>\n",
       "      <td>0.048581</td>\n",
       "    </tr>\n",
       "    <tr>\n",
       "      <th>19</th>\n",
       "      <td>0.163265</td>\n",
       "      <td>0.836735</td>\n",
       "      <td>0.183673</td>\n",
       "      <td>0.454553</td>\n",
       "      <td>0.047308</td>\n",
       "    </tr>\n",
       "    <tr>\n",
       "      <th>20</th>\n",
       "      <td>0.224490</td>\n",
       "      <td>0.775510</td>\n",
       "      <td>0.177551</td>\n",
       "      <td>0.439586</td>\n",
       "      <td>0.045675</td>\n",
       "    </tr>\n",
       "    <tr>\n",
       "      <th>21</th>\n",
       "      <td>0.285714</td>\n",
       "      <td>0.714286</td>\n",
       "      <td>0.171429</td>\n",
       "      <td>0.425944</td>\n",
       "      <td>0.043645</td>\n",
       "    </tr>\n",
       "    <tr>\n",
       "      <th>22</th>\n",
       "      <td>0.346939</td>\n",
       "      <td>0.653061</td>\n",
       "      <td>0.165306</td>\n",
       "      <td>0.413758</td>\n",
       "      <td>0.041179</td>\n",
       "    </tr>\n",
       "    <tr>\n",
       "      <th>23</th>\n",
       "      <td>0.408163</td>\n",
       "      <td>0.591837</td>\n",
       "      <td>0.159184</td>\n",
       "      <td>0.403158</td>\n",
       "      <td>0.038236</td>\n",
       "    </tr>\n",
       "    <tr>\n",
       "      <th>24</th>\n",
       "      <td>0.469388</td>\n",
       "      <td>0.530612</td>\n",
       "      <td>0.153061</td>\n",
       "      <td>0.394274</td>\n",
       "      <td>0.034779</td>\n",
       "    </tr>\n",
       "    <tr>\n",
       "      <th>25</th>\n",
       "      <td>0.530612</td>\n",
       "      <td>0.469388</td>\n",
       "      <td>0.146939</td>\n",
       "      <td>0.387223</td>\n",
       "      <td>0.030772</td>\n",
       "    </tr>\n",
       "    <tr>\n",
       "      <th>26</th>\n",
       "      <td>0.591837</td>\n",
       "      <td>0.408163</td>\n",
       "      <td>0.140816</td>\n",
       "      <td>0.382107</td>\n",
       "      <td>0.026184</td>\n",
       "    </tr>\n",
       "    <tr>\n",
       "      <th>27</th>\n",
       "      <td>0.653061</td>\n",
       "      <td>0.346939</td>\n",
       "      <td>0.134694</td>\n",
       "      <td>0.379004</td>\n",
       "      <td>0.020993</td>\n",
       "    </tr>\n",
       "    <tr>\n",
       "      <th>28</th>\n",
       "      <td>0.714286</td>\n",
       "      <td>0.285714</td>\n",
       "      <td>0.128571</td>\n",
       "      <td>0.377964</td>\n",
       "      <td>0.015182</td>\n",
       "    </tr>\n",
       "    <tr>\n",
       "      <th>29</th>\n",
       "      <td>0.775510</td>\n",
       "      <td>0.224490</td>\n",
       "      <td>0.122449</td>\n",
       "      <td>0.379004</td>\n",
       "      <td>0.008748</td>\n",
       "    </tr>\n",
       "    <tr>\n",
       "      <th>30</th>\n",
       "      <td>0.836735</td>\n",
       "      <td>0.163265</td>\n",
       "      <td>0.116327</td>\n",
       "      <td>0.382107</td>\n",
       "      <td>0.001694</td>\n",
       "    </tr>\n",
       "    <tr>\n",
       "      <th>31</th>\n",
       "      <td>0.897959</td>\n",
       "      <td>0.102041</td>\n",
       "      <td>0.110204</td>\n",
       "      <td>0.387223</td>\n",
       "      <td>-0.005963</td>\n",
       "    </tr>\n",
       "    <tr>\n",
       "      <th>32</th>\n",
       "      <td>0.959184</td>\n",
       "      <td>0.040816</td>\n",
       "      <td>0.104082</td>\n",
       "      <td>0.394274</td>\n",
       "      <td>-0.014201</td>\n",
       "    </tr>\n",
       "    <tr>\n",
       "      <th>33</th>\n",
       "      <td>1.020408</td>\n",
       "      <td>-0.020408</td>\n",
       "      <td>0.097959</td>\n",
       "      <td>0.403158</td>\n",
       "      <td>-0.022988</td>\n",
       "    </tr>\n",
       "    <tr>\n",
       "      <th>34</th>\n",
       "      <td>1.081633</td>\n",
       "      <td>-0.081633</td>\n",
       "      <td>0.091837</td>\n",
       "      <td>0.413758</td>\n",
       "      <td>-0.032291</td>\n",
       "    </tr>\n",
       "    <tr>\n",
       "      <th>35</th>\n",
       "      <td>1.142857</td>\n",
       "      <td>-0.142857</td>\n",
       "      <td>0.085714</td>\n",
       "      <td>0.425944</td>\n",
       "      <td>-0.042069</td>\n",
       "    </tr>\n",
       "    <tr>\n",
       "      <th>36</th>\n",
       "      <td>1.204082</td>\n",
       "      <td>-0.204082</td>\n",
       "      <td>0.079592</td>\n",
       "      <td>0.439586</td>\n",
       "      <td>-0.052284</td>\n",
       "    </tr>\n",
       "    <tr>\n",
       "      <th>37</th>\n",
       "      <td>1.265306</td>\n",
       "      <td>-0.265306</td>\n",
       "      <td>0.073469</td>\n",
       "      <td>0.454553</td>\n",
       "      <td>-0.062896</td>\n",
       "    </tr>\n",
       "    <tr>\n",
       "      <th>38</th>\n",
       "      <td>1.326531</td>\n",
       "      <td>-0.326531</td>\n",
       "      <td>0.067347</td>\n",
       "      <td>0.470717</td>\n",
       "      <td>-0.073868</td>\n",
       "    </tr>\n",
       "    <tr>\n",
       "      <th>39</th>\n",
       "      <td>1.387755</td>\n",
       "      <td>-0.387755</td>\n",
       "      <td>0.061224</td>\n",
       "      <td>0.487960</td>\n",
       "      <td>-0.085164</td>\n",
       "    </tr>\n",
       "    <tr>\n",
       "      <th>40</th>\n",
       "      <td>1.448980</td>\n",
       "      <td>-0.448980</td>\n",
       "      <td>0.055102</td>\n",
       "      <td>0.506172</td>\n",
       "      <td>-0.096750</td>\n",
       "    </tr>\n",
       "    <tr>\n",
       "      <th>41</th>\n",
       "      <td>1.510204</td>\n",
       "      <td>-0.510204</td>\n",
       "      <td>0.048980</td>\n",
       "      <td>0.525252</td>\n",
       "      <td>-0.108596</td>\n",
       "    </tr>\n",
       "    <tr>\n",
       "      <th>42</th>\n",
       "      <td>1.571429</td>\n",
       "      <td>-0.571429</td>\n",
       "      <td>0.042857</td>\n",
       "      <td>0.545108</td>\n",
       "      <td>-0.120675</td>\n",
       "    </tr>\n",
       "    <tr>\n",
       "      <th>43</th>\n",
       "      <td>1.632653</td>\n",
       "      <td>-0.632653</td>\n",
       "      <td>0.036735</td>\n",
       "      <td>0.565660</td>\n",
       "      <td>-0.132963</td>\n",
       "    </tr>\n",
       "    <tr>\n",
       "      <th>44</th>\n",
       "      <td>1.693878</td>\n",
       "      <td>-0.693878</td>\n",
       "      <td>0.030612</td>\n",
       "      <td>0.586833</td>\n",
       "      <td>-0.145438</td>\n",
       "    </tr>\n",
       "    <tr>\n",
       "      <th>45</th>\n",
       "      <td>1.755102</td>\n",
       "      <td>-0.755102</td>\n",
       "      <td>0.024490</td>\n",
       "      <td>0.608564</td>\n",
       "      <td>-0.158079</td>\n",
       "    </tr>\n",
       "    <tr>\n",
       "      <th>46</th>\n",
       "      <td>1.816327</td>\n",
       "      <td>-0.816327</td>\n",
       "      <td>0.018367</td>\n",
       "      <td>0.630794</td>\n",
       "      <td>-0.170871</td>\n",
       "    </tr>\n",
       "    <tr>\n",
       "      <th>47</th>\n",
       "      <td>1.877551</td>\n",
       "      <td>-0.877551</td>\n",
       "      <td>0.012245</td>\n",
       "      <td>0.653472</td>\n",
       "      <td>-0.183797</td>\n",
       "    </tr>\n",
       "    <tr>\n",
       "      <th>48</th>\n",
       "      <td>1.938776</td>\n",
       "      <td>-0.938776</td>\n",
       "      <td>0.006122</td>\n",
       "      <td>0.676554</td>\n",
       "      <td>-0.196844</td>\n",
       "    </tr>\n",
       "    <tr>\n",
       "      <th>49</th>\n",
       "      <td>2.000000</td>\n",
       "      <td>-1.000000</td>\n",
       "      <td>0.000000</td>\n",
       "      <td>0.700000</td>\n",
       "      <td>-0.210000</td>\n",
       "    </tr>\n",
       "  </tbody>\n",
       "</table>\n",
       "</div>"
      ],
      "text/plain": [
       "          w1        w2   $\\mu_V$  $\\sigma_V$  Indifference Line\n",
       "0  -1.000000  2.000000  0.300000    0.871780           0.038466\n",
       "1  -0.938776  1.938776  0.293878    0.846585           0.039902\n",
       "2  -0.877551  1.877551  0.287755    0.821575           0.041283\n",
       "3  -0.816327  1.816327  0.281633    0.796768           0.042602\n",
       "4  -0.755102  1.755102  0.275510    0.772184           0.043855\n",
       "5  -0.693878  1.693878  0.269388    0.747844           0.045034\n",
       "6  -0.632653  1.632653  0.263265    0.723774           0.046133\n",
       "7  -0.571429  1.571429  0.257143    0.700000           0.047143\n",
       "8  -0.510204  1.510204  0.251020    0.676554           0.048054\n",
       "9  -0.448980  1.448980  0.244898    0.653472           0.048856\n",
       "10 -0.387755  1.387755  0.238776    0.630794           0.049537\n",
       "11 -0.326531  1.326531  0.232653    0.608564           0.050084\n",
       "12 -0.265306  1.265306  0.226531    0.586833           0.050481\n",
       "13 -0.204082  1.204082  0.220408    0.565660           0.050710\n",
       "14 -0.142857  1.142857  0.214286    0.545108           0.050753\n",
       "15 -0.081633  1.081633  0.208163    0.525252           0.050588\n",
       "16 -0.020408  1.020408  0.202041    0.506172           0.050189\n",
       "17  0.040816  0.959184  0.195918    0.487960           0.049530\n",
       "18  0.102041  0.897959  0.189796    0.470717           0.048581\n",
       "19  0.163265  0.836735  0.183673    0.454553           0.047308\n",
       "20  0.224490  0.775510  0.177551    0.439586           0.045675\n",
       "21  0.285714  0.714286  0.171429    0.425944           0.043645\n",
       "22  0.346939  0.653061  0.165306    0.413758           0.041179\n",
       "23  0.408163  0.591837  0.159184    0.403158           0.038236\n",
       "24  0.469388  0.530612  0.153061    0.394274           0.034779\n",
       "25  0.530612  0.469388  0.146939    0.387223           0.030772\n",
       "26  0.591837  0.408163  0.140816    0.382107           0.026184\n",
       "27  0.653061  0.346939  0.134694    0.379004           0.020993\n",
       "28  0.714286  0.285714  0.128571    0.377964           0.015182\n",
       "29  0.775510  0.224490  0.122449    0.379004           0.008748\n",
       "30  0.836735  0.163265  0.116327    0.382107           0.001694\n",
       "31  0.897959  0.102041  0.110204    0.387223          -0.005963\n",
       "32  0.959184  0.040816  0.104082    0.394274          -0.014201\n",
       "33  1.020408 -0.020408  0.097959    0.403158          -0.022988\n",
       "34  1.081633 -0.081633  0.091837    0.413758          -0.032291\n",
       "35  1.142857 -0.142857  0.085714    0.425944          -0.042069\n",
       "36  1.204082 -0.204082  0.079592    0.439586          -0.052284\n",
       "37  1.265306 -0.265306  0.073469    0.454553          -0.062896\n",
       "38  1.326531 -0.326531  0.067347    0.470717          -0.073868\n",
       "39  1.387755 -0.387755  0.061224    0.487960          -0.085164\n",
       "40  1.448980 -0.448980  0.055102    0.506172          -0.096750\n",
       "41  1.510204 -0.510204  0.048980    0.525252          -0.108596\n",
       "42  1.571429 -0.571429  0.042857    0.545108          -0.120675\n",
       "43  1.632653 -0.632653  0.036735    0.565660          -0.132963\n",
       "44  1.693878 -0.693878  0.030612    0.586833          -0.145438\n",
       "45  1.755102 -0.755102  0.024490    0.608564          -0.158079\n",
       "46  1.816327 -0.816327  0.018367    0.630794          -0.170871\n",
       "47  1.877551 -0.877551  0.012245    0.653472          -0.183797\n",
       "48  1.938776 -0.938776  0.006122    0.676554          -0.196844\n",
       "49  2.000000 -1.000000  0.000000    0.700000          -0.210000"
      ]
     },
     "execution_count": 12,
     "metadata": {},
     "output_type": "execute_result"
    }
   ],
   "source": [
    "# find the portfolio that max(muV-0.3sigma) by looking at 50 portfolio weight combination\n",
    "w1 = np.array([w for w in np.linspace(-1,2,50)])\n",
    "w2 =1-w1\n",
    "\n",
    "#for w in np.linspace(-1,2,50):\n",
    "w_list_store=[]\n",
    "muV_store=[]\n",
    "sigmaV_store =[]\n",
    "indif_store =[]\n",
    "for i in range(50):\n",
    "    w_list = [w1[i],w2[i]]\n",
    "    w_list_store.append(w_list)\n",
    "    muV= muX(w_list,mu)\n",
    "    muV_store.append(muV)\n",
    "    sigmaV=sigmaX(np.array(w_list),cov)\n",
    "    sigmaV_store.append(sigmaV)\n",
    "    indif=muV-0.3*sigmaV\n",
    "    indif_store.append(indif)\n",
    "data = {'w1':w1,\"w2\":w2,\"$\\mu_V$\": muV_store,\"$\\sigma_V$\":sigmaV_store,\"Indifference Line\": indif_store}\n",
    "pd.DataFrame(data)"
   ]
  },
  {
   "cell_type": "code",
   "execution_count": 13,
   "metadata": {},
   "outputs": [
    {
     "name": "stdout",
     "output_type": "stream",
     "text": [
      "Portfolio weights are: -0.1428571428571429 1.1428571428571428\n"
     ]
    }
   ],
   "source": [
    "id_max = indif_store.index(max(indif_store))\n",
    "print(\"Portfolio weights are:\", w1[id_max],w2[id_max])"
   ]
  },
  {
   "cell_type": "markdown",
   "metadata": {},
   "source": [
    "## Problem 4. \n",
    "Consider three stocks with the following rate of returns $m = [µ1, µ2, µ3] =[0.1 0.12 0.16]$ and covariance matrix \n",
    "$$\n",
    "[ 0.09, -0.03,  0.  ]\\\\\n",
    "        [-0.03,  0.16,  0.04]\\\\\n",
    "        [ 0.  ,  0.04,  0.16]\n",
    "$$"
   ]
  },
  {
   "cell_type": "code",
   "execution_count": 14,
   "metadata": {},
   "outputs": [
    {
     "name": "stdout",
     "output_type": "stream",
     "text": [
      "The weights the minimize total portfolio variance is: [[0.53179191 0.30057803 0.16763006]]\n"
     ]
    }
   ],
   "source": [
    "\n",
    "C=np.matrix([[ 0.09, -0.03,  0.  ],\n",
    "        [-0.03,  0.16,  0.04],\n",
    "        [ 0.  ,  0.04,  0.16]])\n",
    "mu_list = np.matrix(\"0.1,0.12,0.16\")\n",
    "def minvariance(cov,number_of_assets):\n",
    "        \"\"\"\n",
    "        input: covraince\n",
    "        output: min variance weights\n",
    "        \"\"\"\n",
    "        one = np.asmatrix(np.ones((1,number_of_assets)))\n",
    "        w_min = np.dot(one,np.linalg.inv(cov))/np.dot(np.dot(one,np.linalg.inv(cov)),one.T)\n",
    "        return np.asarray(w_min)\n",
    "print(\"The weights the minimize total portfolio variance is:\",minvariance(C,3))\n"
   ]
  },
  {
   "cell_type": "code",
   "execution_count": 17,
   "metadata": {},
   "outputs": [
    {
     "name": "stdout",
     "output_type": "stream",
     "text": [
      "The standard deviation associatted is: 0.19708863649596378\n"
     ]
    }
   ],
   "source": [
    "print(\"The standard deviation associatted is:\",sigmaX(minvariance(C,3),C))"
   ]
  },
  {
   "cell_type": "markdown",
   "metadata": {},
   "source": [
    "### Question4b \n",
    "\n",
    "### given mean portfolio return, find weights of assets\n"
   ]
  },
  {
   "cell_type": "code",
   "execution_count": 18,
   "metadata": {},
   "outputs": [],
   "source": [
    "def effport(mu_v, mu_list, cov):\n",
    "    one = np.asmatrix(np.ones((1,mu_list.shape[1])))\n",
    "    aa = np.matrix(\"1,1;1,1\",dtype=float)\n",
    "    bb =np.matrix(\"1,1;1,1\",dtype=float)\n",
    "    cc = np.matrix(\"1,1;1,1\",dtype=float)\n",
    "    aa[0,1] = one*np.linalg.inv(cov)*mu_list.T\n",
    "    aa[1,0] = mu_v\n",
    "    aa[1,1] = mu_list * np.linalg.inv(cov)*mu_list.T\n",
    "    \n",
    "    bb[0,0]= one*np.linalg.inv(cov)*one.T\n",
    "    bb[1,0]= mu_list * np.linalg.inv(cov)*one.T\n",
    "    bb[1,1]= mu_v\n",
    "    \n",
    "    cc[0,0] = bb[0,0]\n",
    "    cc[0,1] = aa[0,1]\n",
    "    cc[1,0] = bb[1,0]\n",
    "    cc[1,1] = aa[1,1]\n",
    "    w = (np.linalg.det(aa)*one*np.linalg.inv(cov)+np.linalg.det(bb)*mu_list *np.linalg.inv(cov))/np.linalg.det(cc)\n",
    "    return w"
   ]
  },
  {
   "cell_type": "code",
   "execution_count": 31,
   "metadata": {},
   "outputs": [
    {
     "name": "stdout",
     "output_type": "stream",
     "text": [
      "portfolio with minimal variance under this constraint \n",
      " [[0.09134615 0.11298077 0.79567308]]\n"
     ]
    }
   ],
   "source": [
    "mu_v=0.15\n",
    "w=effport(mu_v,mu_list,C)\n",
    "print(\"portfolio with minimal variance under this constraint \\n\",w)"
   ]
  },
  {
   "cell_type": "code",
   "execution_count": 20,
   "metadata": {},
   "outputs": [
    {
     "name": "stdout",
     "output_type": "stream",
     "text": [
      "associated portfolio standard deviation \n",
      " 0.33265756821739023\n"
     ]
    }
   ],
   "source": [
    "print(\"associated portfolio standard deviation \\n\",sigmaX(w,C))"
   ]
  },
  {
   "cell_type": "markdown",
   "metadata": {},
   "source": [
    "### Question 4c \n",
    "If the risk-free rate is rF = 0.04, find the market portfolio, together with its expected return and standard deviation."
   ]
  },
  {
   "cell_type": "code",
   "execution_count": 23,
   "metadata": {},
   "outputs": [
    {
     "name": "stdout",
     "output_type": "stream",
     "text": [
      "The market Portfolio is  [[0.42553191 0.25531915 0.31914894]] Expected return is [[0.12425532]] SD is 0.20742225713964152\n"
     ]
    }
   ],
   "source": [
    "one= np.asmatrix(np.ones((1,3)))\n",
    "w = (mu_list -0.04*one)*np.linalg.inv(C)\n",
    "w_norm=w/np.sum(w)\n",
    "print(\"The market Portfolio is \",w_norm,\"Expected return is\", muX(w_norm,mu_list),\"SD is\",sigmaX(w_norm, C))\n"
   ]
  },
  {
   "cell_type": "markdown",
   "metadata": {},
   "source": [
    "### Question5a"
   ]
  },
  {
   "cell_type": "code",
   "execution_count": 25,
   "metadata": {},
   "outputs": [],
   "source": [
    "mu=np.array([0.06,0.08,0.12])\n",
    "cov = np.matrix('0.04,0.01,-0.01;0.01,0.09,0;-0.01,0,0.25')"
   ]
  },
  {
   "cell_type": "code",
   "execution_count": 26,
   "metadata": {},
   "outputs": [],
   "source": [
    "s=[]\n",
    "s2 = s.copy()\n",
    "m=[]\n",
    "m2=m.copy()"
   ]
  },
  {
   "cell_type": "code",
   "execution_count": 27,
   "metadata": {},
   "outputs": [
    {
     "name": "stdout",
     "output_type": "stream",
     "text": [
      "Mean return of Min Variance: [0.07243077]\n"
     ]
    },
    {
     "data": {
      "text/plain": [
       "<matplotlib.legend.Legend at 0x21887f564e0>"
      ]
     },
     "execution_count": 27,
     "metadata": {},
     "output_type": "execute_result"
    },
    {
     "data": {
      "image/png": "[encoded data removed]",
      "text/plain": [
       "<Figure size 432x288 with 1 Axes>"
      ]
     },
     "metadata": {
      "needs_background": "light"
     },
     "output_type": "display_data"
    }
   ],
   "source": [
    "# All combination of three assets\n",
    "for w1 in np.linspace(-1,2,50):\n",
    "    for w2 in np.linspace(-1,2,50):\n",
    "        w_list = np.array([w1,w2,1-w1-w2])\n",
    "        s.append(sigmaX(w_list,cov))\n",
    "        m.append(muX(w_list,mu))\n",
    "plt.scatter(s,m, color=\"red\",label=\"All Combination\")\n",
    "\n",
    "\n",
    "# find the min variance portfolio\n",
    "w_minvar = minvariance(cov,3)\n",
    "plt.scatter(sigmaX(w_minvar,cov),muX(w_minvar,mu),color = \"PINK\",linewidths=5, label =\"Min Variance Portfolio\")\n",
    "mu_minv=muX(w_minvar,mu)\n",
    "print(\"Mean return of Min Variance:\",mu_minv)\n",
    "\n",
    "# find the efficient frontier\n",
    "def efficient_fron(mu_minv,mu,cov):\n",
    "    \"\"\"\n",
    "    input: min_variance mu, mu list, covariance\n",
    "    output: portfolio risk, return lists \n",
    "    \"\"\"\n",
    "    s_eff=[]\n",
    "    mu_eff=[]\n",
    "    for i in range (1,25):\n",
    "        w=np.asarray(effport(mu_minv+i/200, np.asmatrix(mu), cov))\n",
    "        s_eff.append(sigmaX(w,cov))\n",
    "        mu_eff.append(list(muX(w,mu)))\n",
    "    return s_eff, mu_eff\n",
    "\n",
    "# plot efficient frontier of three assets portfolio\n",
    "plt.scatter(efficient_fron(mu_minv,mu,cov)[0],efficient_fron(mu_minv,mu,cov)[1],label=\"Efficient frontier of Three\")\n",
    "plt.legend()\n"
   ]
  },
  {
   "cell_type": "markdown",
   "metadata": {},
   "source": [
    "### 5b"
   ]
  },
  {
   "cell_type": "code",
   "execution_count": 28,
   "metadata": {},
   "outputs": [
    {
     "data": {
      "text/plain": [
       "<matplotlib.legend.Legend at 0x21887f035f8>"
      ]
     },
     "execution_count": 28,
     "metadata": {},
     "output_type": "execute_result"
    },
    {
     "data": {
      "image/png": "[encoded data removed]",
      "text/plain": [
       "<Figure size 432x288 with 1 Axes>"
      ]
     },
     "metadata": {
      "needs_background": "light"
     },
     "output_type": "display_data"
    }
   ],
   "source": [
    "# 3 Combinations of two asset\n",
    "m12,m13,m23=itertools.combinations(mu,2)\n",
    "tuples = [m12,m13,m23]\n",
    "m12, m13, m23 = np.asarray(tuples)\n",
    "\n",
    "# Covariance of 3 combination of two-asset port\n",
    "c12 = cov[0:2,0:2]\n",
    "c13 = cov[0:3:2,0:3:2]\n",
    "c23 = cov[1:3,1:3]\n",
    "\n",
    "# plot asset 1 and 2 efficient frontier\n",
    "w12_min =  minvariance(c12,2)\n",
    "s,m = efficient_fron(muX(w12_min,m12), m12,c12)\n",
    "plt.scatter(s,m,label=\"Asset 1&2 efficient frontier\", color = \"blue\")\n",
    "\n",
    "# plot asset 1 and 3 efficient frontier\n",
    "w13_min =  minvariance(c13,2)\n",
    "s2,m2 = efficient_fron(muX(w13_min,m13), m13,c13)\n",
    "plt.scatter(s2,m2,label=\"Asset 1&3 efficient frontier\", color = \"red\")\n",
    "\n",
    "# plot asset 2 and 3 efficient frontier\n",
    "w23_min =  minvariance(c23,2)\n",
    "s3,m3 = efficient_fron(muX(w23_min,m23), m23,c23)\n",
    "plt.scatter(s3,m3,label=\"Asset 2&3 efficient frontier\", color = \"green\")\n",
    "\n",
    "# plot all asset efficient frontier\n",
    "plt.scatter(efficient_fron(mu_minv,mu,cov)[0],efficient_fron(mu_minv,mu,cov)[1],label=\"Efficient frontier of Three\")\n",
    "\n",
    "plt.xlabel(\"Risk\")\n",
    "plt.ylabel(\"Mean Return\")\n",
    "plt.legend()"
   ]
  },
  {
   "cell_type": "code",
   "execution_count": 29,
   "metadata": {},
   "outputs": [
    {
     "data": {
      "text/html": [
       "<div>\n",
       "<style scoped>\n",
       "    .dataframe tbody tr th:only-of-type {\n",
       "        vertical-align: middle;\n",
       "    }\n",
       "\n",
       "    .dataframe tbody tr th {\n",
       "        vertical-align: top;\n",
       "    }\n",
       "\n",
       "    .dataframe thead th {\n",
       "        text-align: right;\n",
       "    }\n",
       "</style>\n",
       "<table border=\"1\" class=\"dataframe\">\n",
       "  <thead>\n",
       "    <tr style=\"text-align: right;\">\n",
       "      <th></th>\n",
       "      <th>Portfolio</th>\n",
       "      <th>Portfolio Weight</th>\n",
       "      <th>$\\mu$</th>\n",
       "      <th>$\\sigma$</th>\n",
       "    </tr>\n",
       "  </thead>\n",
       "  <tbody>\n",
       "    <tr>\n",
       "      <th>0</th>\n",
       "      <td>M123</td>\n",
       "      <td>[[0.643076923076923, 0.2246153846153846, 0.132...</td>\n",
       "      <td>[0.07243076923076923]</td>\n",
       "      <td>0.163236</td>\n",
       "    </tr>\n",
       "    <tr>\n",
       "      <th>1</th>\n",
       "      <td>M12</td>\n",
       "      <td>[[0.7272727272727273, 0.27272727272727276]]</td>\n",
       "      <td>[0.06545454545454546]</td>\n",
       "      <td>0.178377</td>\n",
       "    </tr>\n",
       "    <tr>\n",
       "      <th>2</th>\n",
       "      <td>M13</td>\n",
       "      <td>[[0.8387096774193548, 0.16129032258064516]]</td>\n",
       "      <td>[0.0696774193548387]</td>\n",
       "      <td>0.178705</td>\n",
       "    </tr>\n",
       "    <tr>\n",
       "      <th>3</th>\n",
       "      <td>M23</td>\n",
       "      <td>[[0.7352941176470588, 0.2647058823529412]]</td>\n",
       "      <td>[0.09058823529411764]</td>\n",
       "      <td>0.257248</td>\n",
       "    </tr>\n",
       "  </tbody>\n",
       "</table>\n",
       "</div>"
      ],
      "text/plain": [
       "  Portfolio                                   Portfolio Weight  \\\n",
       "0      M123  [[0.643076923076923, 0.2246153846153846, 0.132...   \n",
       "1       M12        [[0.7272727272727273, 0.27272727272727276]]   \n",
       "2       M13        [[0.8387096774193548, 0.16129032258064516]]   \n",
       "3       M23         [[0.7352941176470588, 0.2647058823529412]]   \n",
       "\n",
       "                   $\\mu$  $\\sigma$  \n",
       "0  [0.07243076923076923]  0.163236  \n",
       "1  [0.06545454545454546]  0.178377  \n",
       "2   [0.0696774193548387]  0.178705  \n",
       "3  [0.09058823529411764]  0.257248  "
      ]
     },
     "execution_count": 29,
     "metadata": {},
     "output_type": "execute_result"
    }
   ],
   "source": [
    "# output 4 portfolios' risk and return \n",
    "data={\"Portfolio\":[\"M123\",\"M12\",\"M13\",\"M23\"],\"Portfolio Weight\": [w_minvar,w12_min,w13_min,w23_min],\"$\\mu$\":[mu_minv,muX(w12_min,m12), muX(w13_min,m13),muX(w23_min,m23)], \"$\\sigma$\": [sigmaX(w_minvar,cov),sigmaX(w12_min,c12),sigmaX(w13_min,c13),sigmaX(w23_min,c23)]}\n",
    "pd.DataFrame(data)"
   ]
  },
  {
   "cell_type": "markdown",
   "metadata": {},
   "source": [
    "c) Discuss how the 4 curves and the 4 min-variance portfolios look like relative to each other and\n",
    "why.\n",
    "\n",
    "1. For the 2-asset portfolio with higher return, the risk is higher. \n",
    "2. Comapred with the first two 2-asset portfolio, three-asset portfolio has lower riske and higher return. And it has the lowest risk.\n",
    "3. Three-asset portfolio curves contained all other efficient portfolio curves."
   ]
  },
  {
   "cell_type": "code",
   "execution_count": null,
   "metadata": {},
   "outputs": [],
   "source": []
  }
 ],
 "metadata": {
  "kernelspec": {
   "display_name": "Python 3",
   "language": "python",
   "name": "python3"
  },
  "language_info": {
   "codemirror_mode": {
    "name": "ipython",
    "version": 3
   },
   "file_extension": ".py",
   "mimetype": "text/x-python",
   "name": "python",
   "nbconvert_exporter": "python",
   "pygments_lexer": "ipython3",
   "version": "3.7.3"
  }
 },
 "nbformat": 4,
 "nbformat_minor": 2
}
