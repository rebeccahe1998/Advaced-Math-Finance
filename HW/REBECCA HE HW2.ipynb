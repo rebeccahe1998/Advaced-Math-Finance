{
 "cells": [
  {
   "cell_type": "code",
   "execution_count": 1,
   "metadata": {},
   "outputs": [],
   "source": [
    "import numpy as np\n",
    "import math\n",
    "from math import sqrt as sqrt\n",
    "import matplotlib.pyplot as plt\n",
    "import pandas as pd\n",
    "from  numpy.random import binomial as rbinom\n",
    "from numpy.random import normal as rnorm\n",
    "from numpy.random import uniform as runi\n",
    "from scipy.stats import norm,binom,t"
   ]
  },
  {
   "cell_type": "markdown",
   "metadata": {},
   "source": [
    "<img src=\"hw2-1.jpg\"/>\n"
   ]
  },
  {
   "cell_type": "markdown",
   "metadata": {},
   "source": [
    "# HW2 \n",
    "## Question2 MC FOR PUT & CALL PRICE\n",
    "a) Generate a sample of M = 25 values of S26. Compute the resulting Monte Carlo estimate for the value of a European Put which has strike K = 60. Provide both the point estimate based on sample average, as well as a 95% confidence interval based on the t-distribution of the sample average estimator\n",
    "\n",
    " $\\frac{1}{M}\\sum_{m=1}^M Q(w_m)V_N(w_m)(1+r)^{(-N)}$"
   ]
  },
  {
   "cell_type": "code",
   "execution_count": 2,
   "metadata": {},
   "outputs": [
    {
     "name": "stdout",
     "output_type": "stream",
     "text": [
      "Call option sample mean, sample sd, and 95% ci are, respectively: 1.4237272985241622 3.1074498715351186 (0.14103503448566057, 2.706419562562664)\n",
      "Put option sample mean, sample sd, and 95% ci are, respectively 2.1686454711793597 3.2351911221723118 (0.8332242104507246, 3.5040667319079946)\n"
     ]
    }
   ],
   "source": [
    "s0 = 50\n",
    "u=1.06\n",
    "r=0.01\n",
    "d = 0.98\n",
    "q = (1+r-d)/(u-d)\n",
    "M=25\n",
    "N=26\n",
    "\n",
    "# generate 25 values of put/call price and get mean & SD\n",
    "def sim(option_type, k):\n",
    "    heads = np.zeros(M)\n",
    "    s_26 = np.zeros(M)\n",
    "    payoff=np.zeros(M)\n",
    "    v0=np.zeros(M)\n",
    "    for i in range(M):\n",
    "        heads[i] = rbinom(N,q)\n",
    "        s_26[i] = s0*u**(heads[i])*d**(N-heads[i])\n",
    "        if option_type == \"call\":\n",
    "            payoff[i] = max((s_26[i] - k),0)\n",
    "            v0[i] = payoff[i]/(1+r)**(N)\n",
    "        if option_type == \"put\":\n",
    "            payoff[i] = max((k -s_26[i]),0)\n",
    "            v0[i] = payoff[i]/(1+r)**(N)\n",
    "\n",
    "    return np.mean(v0), np.std(v0)\n",
    "\n",
    "avg_c, sd_c = sim(\"call\",80)\n",
    "avg_p, sd_p = sim(\"put\", 60)\n",
    "interval_c = t.interval(0.95, df = 24, loc = avg_c, scale = sd_c/sqrt(M))\n",
    "interval_p = t.interval(0.95,df = 24, loc= avg_p, scale = sd_p/sqrt(M))\n",
    "print(\"Call option sample mean, sample sd, and 95% ci are, respectively:\",avg_c,sd_c, interval_c)\n",
    "print(\"Put option sample mean, sample sd, and 95% ci are, respectively\",avg_p,sd_p, interval_p)\n"
   ]
  },
  {
   "cell_type": "markdown",
   "metadata": {},
   "source": [
    "#### (b) Repeat above 10 times, compare with the true no-arbitrage price( use expectation with distribution in a)\n",
    "\n"
   ]
  },
  {
   "cell_type": "code",
   "execution_count": 3,
   "metadata": {},
   "outputs": [
    {
     "name": "stdout",
     "output_type": "stream",
     "text": [
      "Monte Carlo mean price for call is 0.6827531372603228 \n",
      " Monte Carlo mena price for put is  2.023687877360715\n"
     ]
    }
   ],
   "source": [
    "avg_c = []\n",
    "avg_p = []\n",
    "for k in range(10):\n",
    "    avg_p.append(sim(\"put\", 60)[0])\n",
    "    avg_c.append(sim(\"call\",80)[0])\n",
    "v0_bar_c = np.mean(avg_c)\n",
    "v0_bar_p = np.mean(avg_p)\n",
    "print(\"Monte Carlo mean price for call is\", v0_bar_c,\"\\n Monte Carlo mena price for put is \", v0_bar_p)"
   ]
  },
  {
   "cell_type": "code",
   "execution_count": 4,
   "metadata": {},
   "outputs": [
    {
     "name": "stdout",
     "output_type": "stream",
     "text": [
      "True price call option: 0.8114443945224727 \n",
      "True price put option 2.123586766322797\n"
     ]
    }
   ],
   "source": [
    "# compute the true answer, 26 period with 27 outcome for recomibing tree\n",
    "def true_p(option_type, k):\n",
    "    s_26 = np.zeros(N+1)\n",
    "    true_p= np.zeros(N+1)    \n",
    "    for i in range (N+1):\n",
    "        s_26[i] = s0*u**(N-i)*d**i\n",
    "        #compute the true price with expectation of price\n",
    "        if option_type == \"call\" :\n",
    "            true_p[i]= max((s_26[i]-k),0)*binom.pmf(N-i,N,q)/(1+r)**N\n",
    "        if option_type == \"put\" :\n",
    "            true_p[i]= max((k - s_26[i]),0)*binom.pmf(N-i,N,q)/(1+r)**N\n",
    "    return sum(true_p)\n",
    "print(\"True price call option:\", true_p(\"call\", 80),\"\\nTrue price put option\", true_p(\"put\" , 60))"
   ]
  },
  {
   "cell_type": "markdown",
   "metadata": {},
   "source": [
    "After repeating 10 times, we can see the Monte Carlo mean price for PUT and Call are very close to the true prices which are computed with expectation under risk -netural probability."
   ]
  },
  {
   "cell_type": "markdown",
   "metadata": {},
   "source": [
    "# Question3 look back option\n",
    "S0 = 50, r = 0.01, u = 1.06, d = 0.98, K = 55 and N = 30, estimate the no-arbitrage value of this option at t = 0 using a Monte Carlo simulation with M = 100 samples. Be sure to use antithetic variables, and generate your samples in pairs.\n",
    "\n",
    "b) a histogram of the resulting values of option payoff VN.\n",
    "\n",
    "c) Sample mean/SD of your payoffs. \n",
    "\n",
    "d) Final answer with a 99% - confidence interval"
   ]
  },
  {
   "cell_type": "code",
   "execution_count": 5,
   "metadata": {},
   "outputs": [],
   "source": [
    "N=30\n",
    "M=50\n",
    "s0=50\n",
    "u=1.06\n",
    "d=0.98\n",
    "k=55\n",
    "r=0.01\n",
    "q = (1+r-d)/(u-d)\n",
    "# generate the stock path with 1 pair of antithetic vatiable\n",
    "\n",
    "def sim():\n",
    "    s_30 = np.zeros(N+1)\n",
    "    s_30[0] =s0\n",
    "    s_30_at = np.zeros(N+1)\n",
    "    s_30_at[0] = s0\n",
    "    #generate the path\n",
    "    uni= runi(size = N)\n",
    "    uni_at = [1-uni[i] for i in range(N)]\n",
    "    for i in range (0,N):\n",
    "        s_30[i+1] = s_30[i]*(u/d)**(binom.ppf(uni[i],1,q))*d \n",
    "        \n",
    "        s_30_at[i+1] = s_30_at[i]*(u/d)**(binom.ppf(uni_at[i],1,q))*d\n",
    "    \n",
    "    max_path = max(s_30)  #get maximum of the stock path\n",
    "    max_path_at = max(s_30_at)\n",
    "    vn = max((max_path - k),0) # obtain payoff\n",
    "    vn_at = max((max_path_at - k),0)\n",
    "    v0 = vn/(1+r)**N           #discount payoff to get option price\n",
    "    v0_at = vn_at/(1+r)**N\n",
    "\n",
    "    return v0,v0_at, vn,vn_at  #out put a pair of payoff and option price by antithetic sampling"
   ]
  },
  {
   "cell_type": "code",
   "execution_count": 6,
   "metadata": {},
   "outputs": [
    {
     "name": "stdout",
     "output_type": "stream",
     "text": [
      "Using Monte Carlo, the value of option is 11.808055167313421\n"
     ]
    }
   ],
   "source": [
    "# repeat 50 times for above to get 100 samples\n",
    "v0_all = []\n",
    "vn_all = []\n",
    "for i in range (50):\n",
    "    v0,v0_at,vn,vn_at = sim()\n",
    "    v0_all.extend((v0,v0_at))    \n",
    "    vn_all.extend((vn,vn_at))\n",
    "\n",
    "print(\"Using Monte Carlo, the value of option is\",np.mean(v0_all))\n"
   ]
  },
  {
   "cell_type": "code",
   "execution_count": 7,
   "metadata": {},
   "outputs": [
    {
     "data": {
      "text/plain": [
       "(array([30., 20., 16., 14., 13.,  4.,  0.,  2.,  0.,  1.]),\n",
       " array([ 0.        ,  6.86067539, 13.72135078, 20.58202617, 27.44270155,\n",
       "        34.30337694, 41.16405233, 48.02472772, 54.88540311, 61.7460785 ,\n",
       "        68.60675388]),\n",
       " <a list of 10 Patch objects>)"
      ]
     },
     "execution_count": 7,
     "metadata": {},
     "output_type": "execute_result"
    },
    {
     "data": {
      "image/png": "[encoded data removed]",
      "text/plain": [
       "<Figure size 432x288 with 1 Axes>"
      ]
     },
     "metadata": {
      "needs_background": "light"
     },
     "output_type": "display_data"
    }
   ],
   "source": [
    "plt.hist(vn_all,10)"
   ]
  },
  {
   "cell_type": "code",
   "execution_count": 8,
   "metadata": {},
   "outputs": [
    {
     "name": "stdout",
     "output_type": "stream",
     "text": [
      "payoff sample mean: 15.91547434945451 \n",
      " payoff SD: 13.03439808964595\n",
      "Option payoff 99% confidence interval (12.558035894111324, 19.272912804797695)\n"
     ]
    }
   ],
   "source": [
    "# (c) sample mean and sd of payoffs\n",
    "print(\"payoff sample mean:\", np.mean(vn_all), \"\\n payoff SD:\", np.std(vn_all))\n",
    "# (d) option price interval\n",
    "print(\"Option payoff 99% confidence interval\",norm.interval(0.99, loc= np.mean(vn_all), scale = np.std(vn_all)/sqrt(2*M)))"
   ]
  },
  {
   "cell_type": "markdown",
   "metadata": {},
   "source": [
    "## Question4 \n",
    "(a) M=25 MC values for S_T, estimate the value of european call and 95% CI, compare to true BS price\n",
    "\n",
    "$c_0 = s_0N(d_1) - ke^{-rT}N(d_2)$"
   ]
  },
  {
   "cell_type": "code",
   "execution_count": 9,
   "metadata": {},
   "outputs": [
    {
     "name": "stdout",
     "output_type": "stream",
     "text": [
      "6.573775055279903\n"
     ]
    }
   ],
   "source": [
    "s0=50\n",
    "sigma=0.2\n",
    "k=45\n",
    "T=1/2\n",
    "r=0.04\n",
    "M=25\n",
    "#true B-S Price for call option \n",
    "d1 = (math.log(s0/k)+(r+0.5*sigma**2)*T)/(sigma*sqrt(T))\n",
    "N_d1 = norm.cdf(d1)\n",
    "d2 = d1-sigma*sqrt(T)\n",
    "N_d2 = norm.cdf(d2)\n",
    "c0 = s0*N_d1 -k*math.exp(-r*T)*N_d2\n",
    "print(c0)"
   ]
  },
  {
   "cell_type": "code",
   "execution_count": 10,
   "metadata": {},
   "outputs": [
    {
     "name": "stdout",
     "output_type": "stream",
     "text": [
      "Monte Carolo European Call value is 6.529870981817558 \n",
      "95% Interval is (4.270685548841438, 8.789056414793677)\n"
     ]
    }
   ],
   "source": [
    "## mc for st with bs pricing\n",
    "st = np.zeros(M)\n",
    "c0 = np.zeros(M)\n",
    "for i in range(M):\n",
    "    st[i] = s0*math.exp((r-sigma**2/2)*T+sigma*sqrt(T)*rnorm())\n",
    "    c0[i] =math.exp(-r*T)*max((st[i]-k),0) \n",
    "st_mc = np.mean(st)\n",
    "c0_mc = np.mean(c0)\n",
    "sd_mc =np.std(c0)\n",
    "interval = t.interval(0.95, df=M-1,loc= c0_mc, scale = sd_mc/sqrt(M))\n",
    "print(\"Monte Carolo European Call value is\", c0_mc, \"\\n95% Interval is\",interval)\n"
   ]
  },
  {
   "cell_type": "markdown",
   "metadata": {},
   "source": [
    "### b. Quasi-MC,"
   ]
  },
  {
   "cell_type": "code",
   "execution_count": 11,
   "metadata": {},
   "outputs": [
    {
     "name": "stdout",
     "output_type": "stream",
     "text": [
      "Quasi-MC call price 6.792827353356196\n"
     ]
    }
   ],
   "source": [
    "u= np.linspace(0.02,0.98,25)\n",
    "z=[norm.ppf(u[i]) for i in range(25)]\n",
    "st = [s0*math.exp((r-sigma**2/2)*T+sigma*sqrt(T)*z[i]) for i in range(25)]\n",
    "c0 = [max((st[i]-k),0)/(math.exp(-r*T))for i in range(25)]\n",
    "c0_avg = np.mean(c0)\n",
    "print(\"Quasi-MC call price\",c0_avg)"
   ]
  },
  {
   "cell_type": "markdown",
   "metadata": {},
   "source": [
    "The true BS price for the call is about 6.57.\n",
    "Using regular MC with 25 samples, we can get a large 95% confidence interval, but the Quasi MC price is very closed to the true price. "
   ]
  },
  {
   "cell_type": "markdown",
   "metadata": {},
   "source": [
    "## Question5 Basket options\n",
    "Submit your code, histogram of the contract payoffs, estimated contract value today, and respective 98% CI."
   ]
  },
  {
   "cell_type": "code",
   "execution_count": 12,
   "metadata": {},
   "outputs": [
    {
     "name": "stdout",
     "output_type": "stream",
     "text": [
      "basket optiopn value today is 2.6118783732724906 \n",
      " payoff of the contract is 2.7184711517820963\n",
      "98% CI for payoff is (2.3028702752983916, 3.134072028265801)\n"
     ]
    },
    {
     "data": {
      "image/png": "[encoded data removed]",
      "text/plain": [
       "<Figure size 432x288 with 1 Axes>"
      ]
     },
     "metadata": {
      "needs_background": "light"
     },
     "output_type": "display_data"
    }
   ],
   "source": [
    "T=1\n",
    "R=0.03\n",
    "s0_list = [10*i for i in range(1,6)]\n",
    "sigma_list=[0.1+0.05*i for i in range(1,6)]\n",
    "st = np.zeros(5)\n",
    "\n",
    "#simulation of basket option payoff and value\n",
    "def basket_option():\n",
    "    for i in range(5):\n",
    "        st[i] = s0_list[i]*math.exp((r-sigma_list[i]**2/2)*T+sigma_list[i]*sqrt(T)*rnorm())\n",
    "    payoff= max(sum(st)/5 -30,0)\n",
    "    v0=payoff/(math.exp(-r*T))\n",
    "    return payoff, v0\n",
    "\n",
    "# repeat 500 times to get payoff and option value\n",
    "v0_list=[]\n",
    "payoff=[]\n",
    "for i in range(500):\n",
    "    v0, payoff_i  = basket_option()\n",
    "    v0_list.append(v0)\n",
    "    payoff.append(payoff_i)\n",
    "print(\"basket optiopn value today is\",np.mean(v0_list),\"\\n payoff of the contract is\", np.mean(payoff))\n",
    "\n",
    "plt.hist(payoff,bins=20)\n",
    "print(\"98% CI for payoff is\", norm.interval(0.98, loc = np.mean(payoff), scale = np.std(payoff)/sqrt(500) ))"
   ]
  }
 ],
 "metadata": {
  "kernelspec": {
   "display_name": "Python 3",
   "language": "python",
   "name": "python3"
  },
  "language_info": {
   "codemirror_mode": {
    "name": "ipython",
    "version": 3
   },
   "file_extension": ".py",
   "mimetype": "text/x-python",
   "name": "python",
   "nbconvert_exporter": "python",
   "pygments_lexer": "ipython3",
   "version": "3.7.3"
  }
 },
 "nbformat": 4,
 "nbformat_minor": 2
}
