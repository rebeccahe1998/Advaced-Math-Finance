{
 "cells": [
  {
   "cell_type": "code",
   "execution_count": 12,
   "metadata": {},
   "outputs": [],
   "source": [
    "import numpy as np \n",
    "import matplotlib.pyplot as plt \n",
    "from math import exp as e\n",
    "from pandas import DataFrame\n",
    "import itertools"
   ]
  },
  {
   "cell_type": "markdown",
   "metadata": {},
   "source": [
    "## Question 2\n",
    "Consider a binomial tree with S0 = 16, u = 1.25, d = 0.75, and 3 periods (so a total of 8 scenarios). Interest rate is r = 0.05. We are interested in an Asian-type option that pays (1\n",
    "compare the average asset price S1+S2+S3 3\n",
    "3Y3 − S3)+ at T = 3, where Y3 = S1 + S2 + S3. Thus, to determine the payoff we to the terminal stock price S3 and collect the\n",
    "difference. Determine the no-arbitrage price of this contingent claim today: V0. Also determine the replicating portfolios for each time step t = 0, 1, 2 along the scenario "
   ]
  },
  {
   "cell_type": "code",
   "execution_count": 13,
   "metadata": {},
   "outputs": [
    {
     "output_type": "execute_result",
     "data": {
      "text/plain": "array([[20.  , 25.  , 31.25],\n       [20.  , 25.  , 18.75],\n       [20.  , 15.  , 18.75],\n       [20.  , 15.  , 11.25],\n       [12.  , 15.  , 18.75],\n       [12.  , 15.  , 11.25],\n       [12.  ,  9.  , 11.25],\n       [12.  ,  9.  ,  6.75]])"
     },
     "metadata": {},
     "execution_count": 13
    }
   ],
   "source": [
    "# generate non-combing binomial tree with only u, d as entries\n",
    "def expand_grid(data_dict):\n",
    "    rows = itertools.product(*data_dict.values())\n",
    "    return DataFrame.from_records(rows,columns=data_dict.keys())\n",
    "s0 = 16\n",
    "u=1.25\n",
    "d=0.75\n",
    "w=expand_grid({\"N\" + str(x+1):[u,d] for x in range (3) })\n",
    "w=w.values # w is matrix with u,d as elements\n",
    "\n",
    "# generate binomial tree with prices\n",
    "def stock_prices(s0):\n",
    "    s = np.zeros((8,3))\n",
    "    for i in range(1,3):\n",
    "        s[:,[0]]=w[:,[0]]*s0\n",
    "        s[:,[i]] =w[:,[i]]*s[:,[i-1]]\n",
    "    return s\n",
    "\n",
    "stock_prices(16)\n"
   ]
  },
  {
   "cell_type": "code",
   "execution_count": 23,
   "metadata": {},
   "outputs": [
    {
     "output_type": "execute_result",
     "data": {
      "text/plain": "array([0.        , 2.5       , 0.        , 4.16666667, 0.        ,\n       1.5       , 0.        , 2.5       ])"
     },
     "metadata": {},
     "execution_count": 23
    }
   ],
   "source": [
    "s0 = 16\n",
    "u=1.25\n",
    "d=0.75\n",
    "r=0.05\n",
    "q=(1+r-d)/(u-d)\n",
    "\n",
    "w=expand_grid({\"N\" + str(x+1):[u,d] for x in range (3) })\n",
    "w=w.values # w is matrix with u,d as elements\n",
    "def stock_prices(s0):\n",
    "    s = np.zeros((8,3))\n",
    "    for i in range(1,3):\n",
    "        s[:,[0]]=w[:,[0]]*s0\n",
    "        s[:,[i]] =w[:,[i]]*s[:,[i-1]]\n",
    "    return s\n",
    "s= stock_prices(16)  #8*4 matrix\n",
    "\n",
    "# to compute the final payoff, aka v3\n",
    "Y3 = np.zeros(8)\n",
    "payoff=np.zeros(8)\n",
    "for i in range(len(Y3)):\n",
    "    Y3[i] = sum(s[i])\n",
    "    payoff[i] = max((1/3*Y3[i] -s[i,[-1]]),0)\n",
    "payoff   \n"
   ]
  },
  {
   "cell_type": "markdown",
   "metadata": {},
   "source": [
    "### To get $v_0$ using formula: $v_0 = \\frac{E[v_3]}{(1+r)^3}$"
   ]
  },
  {
   "cell_type": "code",
   "execution_count": 15,
   "metadata": {},
   "outputs": [
    {
     "output_type": "execute_result",
     "data": {
      "text/plain": "0.9191232048374901"
     },
     "metadata": {},
     "execution_count": 15
    }
   ],
   "source": [
    "v0 = (q**2*(1-q)*sum(payoff[[1,2,4]])+q*(1-q)**2*sum(payoff[[3,5,6]])+(1-q)**3*payoff[-1] )/(1+r)**3\n",
    "v0"
   ]
  },
  {
   "cell_type": "markdown",
   "metadata": {},
   "source": [
    "### To get $v_0$ using backward recursive method,$v_n(s,y) = \\frac{1}{1+r}(q*v_{n+1}(s*u,y+us) +(1-q)*v_{n+1}(sd,y+ds))$ this answer questions Question3(i)\n",
    "\n",
    "### USE Backward induction to get $v_n$"
   ]
  },
  {
   "cell_type": "code",
   "execution_count": 16,
   "metadata": {},
   "outputs": [
    {
     "output_type": "stream",
     "name": "stdout",
     "text": "v0(16,16) is 0.9191232048374902 which is the same as the above method\n    s   y        v1\n0  20  36  1.148904\n1  12  28  0.689342\n"
    },
    {
     "output_type": "execute_result",
     "data": {
      "text/plain": "    s   y        v2\n0  25  61  0.952381\n1  15  51  1.587302\n2  15  43  0.571429\n3   9  37  0.952381",
      "text/html": "<div>\n<style scoped>\n    .dataframe tbody tr th:only-of-type {\n        vertical-align: middle;\n    }\n\n    .dataframe tbody tr th {\n        vertical-align: top;\n    }\n\n    .dataframe thead th {\n        text-align: right;\n    }\n</style>\n<table border=\"1\" class=\"dataframe\">\n  <thead>\n    <tr style=\"text-align: right;\">\n      <th></th>\n      <th>s</th>\n      <th>y</th>\n      <th>v2</th>\n    </tr>\n  </thead>\n  <tbody>\n    <tr>\n      <th>0</th>\n      <td>25</td>\n      <td>61</td>\n      <td>0.952381</td>\n    </tr>\n    <tr>\n      <th>1</th>\n      <td>15</td>\n      <td>51</td>\n      <td>1.587302</td>\n    </tr>\n    <tr>\n      <th>2</th>\n      <td>15</td>\n      <td>43</td>\n      <td>0.571429</td>\n    </tr>\n    <tr>\n      <th>3</th>\n      <td>9</td>\n      <td>37</td>\n      <td>0.952381</td>\n    </tr>\n  </tbody>\n</table>\n</div>"
     },
     "metadata": {},
     "execution_count": 16
    }
   ],
   "source": [
    "# backward induction to get the payoff at eatch time period\n",
    "v2 = np.zeros(4)\n",
    "v1 = np.zeros(2)\n",
    "for i in range(4):\n",
    "    v2[i] = (q*payoff[2*i]+(1-q)*payoff[2*i+1])/(1+r)  \n",
    "for i in range(2):\n",
    "    v1[i] =(q*v2[2*i]+(1-q)*v2[2*i+1])/(1+r)  \n",
    "v0=(q*v1[0]+(1-q)*v1[1])/(1+r)  \n",
    "print(\"v0(16,16) is\", v0,\"which is the same as the above method\")\n",
    "\n",
    "\n",
    "data = {\"s\": [25,15,15,9], \"y\": [61,51,43,37],\"v2\":v2}\n",
    "data_v1={\"s\":[20,12],\"y\":[36,28],\"v1\":v1}\n",
    "print(DataFrame(data_v1))\n",
    "DataFrame(data)"
   ]
  },
  {
   "cell_type": "code",
   "execution_count": 17,
   "metadata": {},
   "outputs": [
    {
     "output_type": "execute_result",
     "data": {
      "text/plain": "            t=2       t=1           t=0\ndelta -0.200000 -0.063492  5.744520e-02\nB      3.571429  1.451247 -4.440892e-16",
      "text/html": "<div>\n<style scoped>\n    .dataframe tbody tr th:only-of-type {\n        vertical-align: middle;\n    }\n\n    .dataframe tbody tr th {\n        vertical-align: top;\n    }\n\n    .dataframe thead th {\n        text-align: right;\n    }\n</style>\n<table border=\"1\" class=\"dataframe\">\n  <thead>\n    <tr style=\"text-align: right;\">\n      <th></th>\n      <th>t=2</th>\n      <th>t=1</th>\n      <th>t=0</th>\n    </tr>\n  </thead>\n  <tbody>\n    <tr>\n      <th>delta</th>\n      <td>-0.200000</td>\n      <td>-0.063492</td>\n      <td>5.744520e-02</td>\n    </tr>\n    <tr>\n      <th>B</th>\n      <td>3.571429</td>\n      <td>1.451247</td>\n      <td>-4.440892e-16</td>\n    </tr>\n  </tbody>\n</table>\n</div>"
     },
     "metadata": {},
     "execution_count": 17
    }
   ],
   "source": [
    "#replicating portfolios t = 0, 1, 2 along the scenario w = THT\n",
    "delta2_th = (payoff[4]-payoff[5])/(((d*u*u)-(d*u*d))*s0)\n",
    "b2_th = v2[2]-delta2_th*s0*d*u\n",
    "delta1_t = (v2[2] - v2[3])/((u-d)*d*s0)\n",
    "b1_t = v1[1]-delta1_t*s0*d\n",
    "delta0 = (v1[0] - v1[1])/((u-d)*s0)\n",
    "b0 = v0 - delta0*s0\n",
    "data={\"t=2\":[delta2_th,b2_th],\"t=1\":[delta1_t,b1_t],\"t=0\": [delta0,b0]}\n",
    "DataFrame(data, index=[\"delta\",\"B\"])"
   ]
  },
  {
   "cell_type": "markdown",
   "metadata": {},
   "source": [
    "### Q3 (iii)\n",
    "Formula for number of shares:\n",
    "$\\delta_n(s,y) = \\frac{v_{n+1}(su,y+us)-v_{n+1}(ds,y+ds)}{(u-d)s}$"
   ]
  },
  {
   "cell_type": "markdown",
   "metadata": {},
   "source": [
    "## Question4 Up and in Barrier call"
   ]
  },
  {
   "cell_type": "code",
   "execution_count": 18,
   "metadata": {},
   "outputs": [],
   "source": [
    "# generate non-combining binomial tree\n",
    "\n",
    "u=1.05\n",
    "d=0.95\n",
    "\n",
    "w=expand_grid({\"N\" + str(x+1):[u,d] for x in range (8) })\n",
    "\n",
    "w=w.values # w is matrix with u,d as elements\n",
    "\n",
    "# count Head for each brach of binomial tree\n",
    "count_H = np.zeros(256)\n",
    "for i in range(256):\n",
    "    count_H[i]=w.tolist()[i].count(1.05)\n"
   ]
  },
  {
   "cell_type": "code",
   "execution_count": 19,
   "metadata": {},
   "outputs": [
    {
     "output_type": "execute_result",
     "data": {
      "text/plain": "array([[10.5       , 11.025     , 11.57625   , ..., 13.40095641,\n        14.07100423, 14.77455444],\n       [10.5       , 11.025     , 11.57625   , ..., 13.40095641,\n        14.07100423, 13.36745402],\n       [10.5       , 11.025     , 11.57625   , ..., 13.40095641,\n        12.73090859, 13.36745402],\n       ...,\n       [ 9.5       ,  9.025     ,  8.57375   , ...,  7.35091891,\n         7.71846485,  7.33254161],\n       [ 9.5       ,  9.025     ,  8.57375   , ...,  7.35091891,\n         6.98337296,  7.33254161],\n       [ 9.5       ,  9.025     ,  8.57375   , ...,  7.35091891,\n         6.98337296,  6.63420431]])"
     },
     "metadata": {},
     "execution_count": 19
    }
   ],
   "source": [
    "# create a binomial tree matrix\n",
    "s = np.zeros((256,8))\n",
    "for i in range(1,8):\n",
    "\n",
    "    s[:,[0]]=w[:,[0]]*10\n",
    "    s[:,[i]] =w[:,[i]]*s[:,[i-1]]\n",
    "s"
   ]
  },
  {
   "cell_type": "code",
   "execution_count": 20,
   "metadata": {},
   "outputs": [
    {
     "output_type": "execute_result",
     "data": {
      "text/plain": "      B     price  # of nonzero payoff  risk-neutral prob\n0  11.0  0.465635                 37.0           0.550771\n1  11.5  0.465635                 37.0           0.483494\n2  12.0  0.465635                 37.0           0.358525\n3  12.5  0.314749                 17.0           0.171072\n4  13.0  0.261939                 10.0           0.113841",
      "text/html": "<div>\n<style scoped>\n    .dataframe tbody tr th:only-of-type {\n        vertical-align: middle;\n    }\n\n    .dataframe tbody tr th {\n        vertical-align: top;\n    }\n\n    .dataframe thead th {\n        text-align: right;\n    }\n</style>\n<table border=\"1\" class=\"dataframe\">\n  <thead>\n    <tr style=\"text-align: right;\">\n      <th></th>\n      <th>B</th>\n      <th>price</th>\n      <th># of nonzero payoff</th>\n      <th>risk-neutral prob</th>\n    </tr>\n  </thead>\n  <tbody>\n    <tr>\n      <th>0</th>\n      <td>11.0</td>\n      <td>0.465635</td>\n      <td>37.0</td>\n      <td>0.550771</td>\n    </tr>\n    <tr>\n      <th>1</th>\n      <td>11.5</td>\n      <td>0.465635</td>\n      <td>37.0</td>\n      <td>0.483494</td>\n    </tr>\n    <tr>\n      <th>2</th>\n      <td>12.0</td>\n      <td>0.465635</td>\n      <td>37.0</td>\n      <td>0.358525</td>\n    </tr>\n    <tr>\n      <th>3</th>\n      <td>12.5</td>\n      <td>0.314749</td>\n      <td>17.0</td>\n      <td>0.171072</td>\n    </tr>\n    <tr>\n      <th>4</th>\n      <td>13.0</td>\n      <td>0.261939</td>\n      <td>10.0</td>\n      <td>0.113841</td>\n    </tr>\n  </tbody>\n</table>\n</div>"
     },
     "metadata": {},
     "execution_count": 20
    }
   ],
   "source": [
    "def barrier(K,B):\n",
    "    max_s = np.zeros(256)\n",
    "    price = 0\n",
    "    count = 0\n",
    "    qn_sum=0\n",
    "    for i in range(256):\n",
    "        max_s[i]=(max( s[i])) # find the max of each brach\n",
    "      \n",
    "        if max_s[i] > B:\n",
    "            vn = max((s[i][-1] - K), 0 )   # find the payoff if knocks in\n",
    "            qn=q**(count_H[i])*(1-q)**(8-count_H[i])  # get the risk-netural prob\n",
    "            qn_sum +=qn                              # adding probability for each iteration\n",
    "            price += (vn*qn)/(1+0.01)**8             # get the expected price for option\n",
    "            if vn > 0:\n",
    "                count +=1                            # count number of non-zero payoff\n",
    "    return price,count,qn_sum\n",
    "p=np.zeros(5)\n",
    "c=np.zeros(5)\n",
    "Q=np.zeros(5)\n",
    "\n",
    "# for each barrier,caculate the expected option price, number of non-zero payofff, risk-netural prob\n",
    "for b,i in zip(np.array([11,11.5,12,12.5,13]), range(5)):\n",
    "    p[i]= barrier(11,b)[0]\n",
    "    c[i] =barrier(11,b)[1]\n",
    "    Q[i]= barrier(11,b)[2]\n",
    "    \n",
    "DataFrame({\"B\": [11,11.5,12,12.5,13],\"price\": p ,\"# of nonzero payoff\": c,\"risk-neutral prob\": Q })\n",
    "\n"
   ]
  },
  {
   "cell_type": "markdown",
   "metadata": {},
   "source": [
    "## Question 5\n",
    "<img src=\"hw1-5.png\"/>\n",
    "\n",
    "For a scenario w, if the unserlying reaches K=11 in a given period, payoff is $(S_T -K)^+$; if the underlying never reach K=11 durin g a given period, then the payoff will have an additional coupon payment 1.5 "
   ]
  },
  {
   "cell_type": "markdown",
   "metadata": {},
   "source": [
    "## Question6 Hit-Miss option\n"
   ]
  },
  {
   "cell_type": "code",
   "execution_count": 24,
   "metadata": {},
   "outputs": [
    {
     "output_type": "execute_result",
     "data": {
      "text/plain": "0.75"
     },
     "metadata": {},
     "execution_count": 24
    }
   ],
   "source": [
    "u = 1.01\n",
    "d = 0.99\n",
    "p = 0.5\n",
    "\n",
    "# generate non-combinng binomial tree \n",
    "w=expand_grid({\"N\" + str(x+1):[u,d] for x in range (4) })\n",
    "w=w.values \n",
    "def stock_prices(s0):\n",
    "    '''\n",
    "    input inital stock price\n",
    "    output a binomail tree 16*4 matrix\n",
    "    '''\n",
    "    s = np.zeros((16,4))\n",
    "    for i in range(1,4):\n",
    "        s[:,[0]]=w[:,[0]]*s0\n",
    "        s[:,[i]] =w[:,[i]]*s[:,[i-1]]\n",
    "    return s\n",
    "    \n",
    "# generate binomial tree with initial price 1.05    \n",
    "stock_a = stock_prices(1.05)\n",
    "\n",
    "# counting number of the hit box\n",
    "count=0\n",
    "for k in range(16):\n",
    "    if any(stock_a[k,[i]] <=1.07 and stock_a[k,[i]]>=1.03 for i in range(1,4)):\n",
    "            count += 1\n",
    "\n",
    "# compute hit box price using risk netural pricing\n",
    "hit_price = 12*p**4\n",
    "hit_price"
   ]
  },
  {
   "cell_type": "code",
   "execution_count": 25,
   "metadata": {},
   "outputs": [
    {
     "output_type": "execute_result",
     "data": {
      "text/plain": "0.375"
     },
     "metadata": {},
     "execution_count": 25
    }
   ],
   "source": [
    "count=0\n",
    "for k in range(16):\n",
    "    if any(stock_a[k,[i]] <=1.055 and stock_a[k,[i]]>=1.045 for i in range(1,4)):\n",
    "            count += 1\n",
    "miss_count = 16-count\n",
    "miss_price =miss_count*p**(4)\n",
    "miss_price"
   ]
  },
  {
   "cell_type": "code",
   "execution_count": null,
   "metadata": {},
   "outputs": [],
   "source": []
  }
 ],
 "metadata": {
  "language_info": {
   "codemirror_mode": {
    "name": "ipython",
    "version": 3
   },
   "file_extension": ".py",
   "mimetype": "text/x-python",
   "name": "python",
   "nbconvert_exporter": "python",
   "pygments_lexer": "ipython3",
   "version": "3.7.3-final"
  },
  "orig_nbformat": 2,
  "kernelspec": {
   "name": "python3",
   "display_name": "Python 3"
  }
 },
 "nbformat": 4,
 "nbformat_minor": 2
}